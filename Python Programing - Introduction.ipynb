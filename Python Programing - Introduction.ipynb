{
 "cells": [
  {
   "cell_type": "markdown",
   "metadata": {},
   "source": [
    "## Exercise 1: \n",
    "\n",
    "* Write a program that asks the user to enter the width and length of a room. Once the values have been read, your program should compute and display the area of the room. The length and the width will be entered as floating point numbers. Include units in your prompt and output message; either feet or meters, depending on which unit you are more comfortable working with."
   ]
  },
  {
   "cell_type": "code",
   "execution_count": 2,
   "metadata": {},
   "outputs": [
    {
     "name": "stdout",
     "output_type": "stream",
     "text": [
      "Enter the length 20\n",
      "Enter the width 100\n",
      "The area of the room  2000.0\n"
     ]
    }
   ],
   "source": [
    "### Function that computes the area of the room: \n",
    "\n",
    "### AreaComp: Length + Width --> Area\n",
    "\n",
    "def AreaComp(L,W):\n",
    "    output = L*W;\n",
    "    return output\n",
    "\n",
    "L = float(input(\"Enter the length \"));\n",
    "W = float(input(\"Enter the width \"));\n",
    "Area = AreaComp(L,W);\n",
    "print('The area of the room ', Area)"
   ]
  },
  {
   "cell_type": "markdown",
   "metadata": {},
   "source": [
    "## Exercise 2:\n",
    "\n",
    "* Create a program that reads the length and width of a farmer’s field from the user in feet. Display the area of the field in acres."
   ]
  },
  {
   "cell_type": "code",
   "execution_count": 3,
   "metadata": {},
   "outputs": [
    {
     "name": "stdout",
     "output_type": "stream",
     "text": [
      "Enter the length(feet) 10\n",
      "Enter the width(feet) 1000\n",
      "The area of the field (acre) 0.2295684113865932\n"
     ]
    }
   ],
   "source": [
    "\n",
    "### The unit in feet:\n",
    "def AreaComp(L,W):\n",
    "    output = L*W;\n",
    "    return output\n",
    "\n",
    "## Function that converts square feet to acre: \n",
    "\n",
    "def Convert_acre(FeetSq):\n",
    "    ## there arr 43560 square feet in an acre:\n",
    "    Output = FeetSq/43560;\n",
    "    return Output\n",
    "\n",
    "L = float(input(\"Enter the length(feet) \"));\n",
    "W = float(input(\"Enter the width(feet) \"));\n",
    "AreaSqFt = AreaComp(L,W);\n",
    "AreaAcr = Convert_acre(AreaSqFt);\n",
    "\n",
    "print('The area of the field (acre)', AreaAcr)\n"
   ]
  },
  {
   "cell_type": "markdown",
   "metadata": {},
   "source": [
    "## Exercise 3:\n",
    "\n",
    "* Create a program that reads two integers, a and b, from the user.Your program should compute and display:\n",
    "\n",
    "1. The sum of a and b.\n",
    "\n",
    "2. The difference when b is subtracted from a.\n",
    "\n",
    "3. The product of a and b.\n",
    "\n",
    "4. The result of $a^{b}$\n",
    "\n",
    "5. The result of $\\log_{10}(a)$"
   ]
  },
  {
   "cell_type": "code",
   "execution_count": 8,
   "metadata": {},
   "outputs": [
    {
     "name": "stdout",
     "output_type": "stream",
     "text": [
      "Enter the value a 10\n",
      "Enter the value b 20\n",
      "   Sum  Difference  Product              Power a^b  Log of a\n",
      "0   30          10      200  100000000000000000000  2.302585\n"
     ]
    }
   ],
   "source": [
    "import pandas as pd;\n",
    "import numpy as np;\n",
    "\n",
    "sumval = [];\n",
    "diffval = [];\n",
    "prodval = [];\n",
    "powval = [];\n",
    "logval = [];\n",
    "\n",
    "a = int(input(\"Enter the value a \"));\n",
    "b = int(input(\"Enter the value b \"));\n",
    "\n",
    "sumval.append(a+b);\n",
    "diffval.append(b-a);\n",
    "prodval.append(a*b)\n",
    "powval.append(a**b);\n",
    "logval.append(np.log(a));\n",
    "\n",
    "\n",
    "df = pd.DataFrame({'Sum': sumval, 'Difference': diffval,\n",
    "                  'Product': prodval,\n",
    "                  'Power a^b': powval,\n",
    "                  'Log of a': logval});\n",
    "print(df.head())"
   ]
  },
  {
   "cell_type": "markdown",
   "metadata": {},
   "source": [
    "## Exercise 4: \n",
    "\n",
    "* An online retailer sells two products: widgets and gizmos. Each widget weighs 75 grams. Each gizmo weighs 112 grams. Write a program that reads the number of widgets and the number of gizmos in an order from the user. Then your program should compute and display the total weight of the order."
   ]
  },
  {
   "cell_type": "code",
   "execution_count": 16,
   "metadata": {},
   "outputs": [
    {
     "name": "stdout",
     "output_type": "stream",
     "text": [
      "Enter the number of widget 10\n",
      "Enter the number of gizmo 10\n",
      "The total weight of each type [750, 1120]\n",
      "The total weight of the order 1870\n"
     ]
    }
   ],
   "source": [
    "numwid = int(input('Enter the number of widget '));\n",
    "numgiz = int(input('Enter the number of gizmo '));\n",
    "\n",
    "\n",
    "def WeightTotal(Wid, Giz):\n",
    "    WeightWid = 75*Wid;\n",
    "    WeightGiz = 112*Giz;\n",
    "    return WeightWid + WeightGiz\n",
    "\n",
    "def WeightEachType(Wid, Giz):\n",
    "    WeightWid = 75*Wid;\n",
    "    WeightGiz = 112*Giz;\n",
    "    WeightEach = [];\n",
    "    WeightEach.insert(0,WeightWid);\n",
    "    WeightEach.insert(1,WeightGiz);\n",
    "    return WeightEach\n",
    "\n",
    "\n",
    "print('The total weight of each type', \n",
    "      WeightEachType(numwid,numgiz))\n",
    "print('The total weight of the order', \n",
    "      WeightTotal(numwid,numgiz))\n",
    "\n"
   ]
  },
  {
   "cell_type": "markdown",
   "metadata": {},
   "source": [
    "## Exercise 5: Sum of the first n positive integers\n",
    "\n",
    "* Write a program that reads a positive integer, n, from the user and then displays the sum of all of the integers from 1 to n. The sum of the first n positive integers can be computed using the formula:\n",
    "\n",
    "$$\n",
    "sum = \\frac{n(n+1)}{2}\n",
    "$$"
   ]
  },
  {
   "cell_type": "code",
   "execution_count": 29,
   "metadata": {},
   "outputs": [
    {
     "name": "stdout",
     "output_type": "stream",
     "text": [
      "Enter the positive integer 1000\n",
      "The sum of first n positive integers 500500\n"
     ]
    }
   ],
   "source": [
    "n = int(input('Enter the positive integer '))\n",
    "\n",
    "\n",
    "def CompSum(n):\n",
    "    sumval = 0;\n",
    "    if n == 0:\n",
    "            sumval = 0;\n",
    "            return sumval\n",
    "    else:\n",
    "        for k in range(1,n+1):\n",
    "            sumval = sumval + k;\n",
    "        return sumval\n",
    "    \n",
    "print('The sum of first n positive integers', CompSum(n))\n",
    "        "
   ]
  },
  {
   "cell_type": "code",
   "execution_count": 31,
   "metadata": {},
   "outputs": [
    {
     "name": "stdout",
     "output_type": "stream",
     "text": [
      "Enter the positive integer 1000\n",
      "The sum of first n positive integers 500500\n"
     ]
    }
   ],
   "source": [
    "n = int(input('Enter the positive integer '))\n",
    "\n",
    "## Using the formula:\n",
    "\n",
    "def ComSum(n):\n",
    "    output = 0.5*n*(n+1);\n",
    "    return output\n",
    "print('The sum of first n positive integers', int(ComSum(n)))"
   ]
  },
  {
   "cell_type": "markdown",
   "metadata": {},
   "source": [
    "## Exercise 6: \n",
    "\n",
    "* Similar exercise but with the sum of first n square positive integers"
   ]
  },
  {
   "cell_type": "code",
   "execution_count": 41,
   "metadata": {},
   "outputs": [
    {
     "name": "stdout",
     "output_type": "stream",
     "text": [
      "Enter the positive integer 100\n",
      "The sum of square of first n positive integers  338349\n"
     ]
    }
   ],
   "source": [
    "n = int(input('Enter the positive integer '))\n",
    "\n",
    "def ComSum2(n):\n",
    "    sumval = 0;\n",
    "    if  n==0:\n",
    "        sumval = 0;\n",
    "        return sumval\n",
    "    elif n==1:\n",
    "        sumval = 1;\n",
    "        return sumval\n",
    "    else:\n",
    "        for k in range(2,n+1):\n",
    "            sumval = sumval + k**2;\n",
    "        return sumval\n",
    "    \n",
    "    \n",
    "print('The sum of square of first n positive integers ', \n",
    "     ComSum2(n))"
   ]
  }
 ],
 "metadata": {
  "kernelspec": {
   "display_name": "Python 3",
   "language": "python",
   "name": "python3"
  },
  "language_info": {
   "codemirror_mode": {
    "name": "ipython",
    "version": 3
   },
   "file_extension": ".py",
   "mimetype": "text/x-python",
   "name": "python",
   "nbconvert_exporter": "python",
   "pygments_lexer": "ipython3",
   "version": "3.7.4"
  }
 },
 "nbformat": 4,
 "nbformat_minor": 2
}
